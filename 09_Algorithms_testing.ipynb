{
  "cells": [
    {
      "cell_type": "markdown",
      "source": [
        "# ECE358: Homework 2, Problem 4\n",
        "\n",
        "**Input**: Sorted sequence of DISTINCT *intergers* $A = \\{a_1, a_2, ..., a_n\\}$\n",
        "\n",
        "**Goal**: Output whether there exists some $i \\in [n]$ such that $a_i = i$. Must be done in $O(\\log n)$ time."
      ],
      "metadata": {
        "nteract": {
          "transient": {
            "deleting": false
          }
        }
      }
    },
    {
      "cell_type": "code",
      "source": [
        "# Function for testing purposes that works in $O(n)$ time.\n",
        "function naive_search(A)\n",
        "  for i = 1:length(A)\n",
        "    if A[i] == i\n",
        "      return true\n",
        "    end\n",
        "  end\n",
        "  return false\n",
        "end\n",
        "\n",
        "println(\"HI\")"
      ],
      "outputs": [
        {
          "output_type": "stream",
          "name": "stdout",
          "text": [
            "HI\n"
          ]
        }
      ],
      "execution_count": 5,
      "metadata": {
        "execution": {
          "iopub.execute_input": "2020-10-10T00:46:36.192Z",
          "iopub.status.busy": "2020-10-10T00:46:36.189Z",
          "iopub.status.idle": "2020-10-10T00:46:36.264Z"
        },
        "jupyter": {
          "outputs_hidden": false,
          "source_hidden": false
        },
        "nteract": {
          "transient": {
            "deleting": false
          }
        }
      }
    },
    {
      "cell_type": "code",
      "source": [
        "test_arry = [-3 -2 -1 4 6 9 10] # ANSWER: TRUE\n",
        "test_arry2 = [5 6 8 9] # ANSWER FALSE\n",
        "test_arry3 = [-1 0 1 2 3 4]\n",
        "\n",
        "println(\"Answer for test array: $(naive_search(test_arry))\")\n",
        "println(\"Answer for second array: $(naive_search(test_arry2))\")"
      ],
      "outputs": [
        {
          "output_type": "stream",
          "name": "stdout",
          "text": [
            "Answer for test array: true\n",
            "Answer for second array: false\n"
          ]
        }
      ],
      "execution_count": 29,
      "metadata": {
        "execution": {
          "iopub.execute_input": "2020-10-10T00:59:48.707Z",
          "iopub.status.busy": "2020-10-10T00:59:48.704Z",
          "iopub.status.idle": "2020-10-10T00:59:48.718Z"
        },
        "jupyter": {
          "outputs_hidden": false,
          "source_hidden": false
        },
        "nteract": {
          "transient": {
            "deleting": false
          }
        }
      }
    },
    {
      "cell_type": "code",
      "source": [
        "function smart_search(A)\n",
        "  lower_bound = 1\n",
        "  upper_bound = length(A)\n",
        "  k = length(A) ÷ 2\n",
        "\n",
        "  while lower_bound <= upper_bound\n",
        "    println(\"Current search space: $(A[lower_bound:upper_bound])\")\n",
        "    \n",
        "    if A[k] == k\n",
        "      return true\n",
        "    elseif A[k] > k # A[k] is too large, indicating that all indices >k will be too \n",
        "                    # because of **distinct, orderedness**.\n",
        "      upper_bound = k-1\n",
        "      k = (upper_bound+lower_bound)÷2\n",
        "    else\n",
        "      lower_bound = k+1\n",
        "      k = (upper_bound+lower_bound)÷2\n",
        "    end \n",
        "  end\n",
        "  \n",
        "  return false\n",
        "end"
      ],
      "outputs": [
        {
          "output_type": "execute_result",
          "execution_count": 18,
          "data": {
            "text/plain": "smart_search (generic function with 1 method)"
          },
          "metadata": {}
        }
      ],
      "execution_count": 18,
      "metadata": {
        "execution": {
          "iopub.execute_input": "2020-10-10T00:56:42.866Z",
          "iopub.status.busy": "2020-10-10T00:56:42.863Z",
          "iopub.status.idle": "2020-10-10T00:56:42.873Z"
        },
        "jupyter": {
          "outputs_hidden": false,
          "source_hidden": false
        },
        "nteract": {
          "transient": {
            "deleting": false
          }
        }
      }
    },
    {
      "cell_type": "code",
      "source": [
        "function recursive_smart_search(A, lower_bound, upper_bound)\n",
        "  \n",
        "  if lower_bound > upper_bound\n",
        "    println(\"Lower bound exceeds upper bound, returning false\")\n",
        "    return false\n",
        "  end\n",
        "  \n",
        "  println(\"Current search space: $(A[lower_bound:upper_bound])\")\n",
        "  \n",
        "  \n",
        "  k = (upper_bound+lower_bound)÷2\n",
        "  \n",
        "  if A[k] == k\n",
        "    return true\n",
        "  elseif A[k] > k\n",
        "    upper_bound = k-1\n",
        "  else\n",
        "    lower_bound = k+1\n",
        "  end\n",
        "  \n",
        "  recursive_smart_search(A, lower_bound, upper_bound)\n",
        "end"
      ],
      "outputs": [
        {
          "output_type": "execute_result",
          "execution_count": 41,
          "data": {
            "text/plain": "recursive_smart_search (generic function with 3 methods)"
          },
          "metadata": {}
        }
      ],
      "execution_count": 41,
      "metadata": {
        "collapsed": true,
        "jupyter": {
          "source_hidden": false,
          "outputs_hidden": false
        },
        "nteract": {
          "transient": {
            "deleting": false
          }
        },
        "execution": {
          "iopub.status.busy": "2020-10-10T01:01:40.033Z",
          "iopub.execute_input": "2020-10-10T01:01:40.036Z",
          "iopub.status.idle": "2020-10-10T01:01:40.043Z"
        }
      }
    },
    {
      "cell_type": "code",
      "source": [
        "println(\"Answer for test array: $(smart_search(test_arry))\")\n",
        "println(\"Answer for second array: $(smart_search(test_arry2))\")\n",
        "println(\"Answer for third array: $(smart_search(test_arry3))\")\n"
      ],
      "outputs": [
        {
          "output_type": "stream",
          "name": "stdout",
          "text": [
            "Current search space: [-3, -2, -1, 4, 6, 9, 10]\n",
            "Current search space: [4, 6, 9, 10]\n",
            "Current search space: [4]\n",
            "Answer for test array: true\n",
            "Current search space: [5, 6, 8, 9]\n",
            "Current search space: [5]\n",
            "Answer for second array: false\n",
            "Current search space: [-1, 0, 1, 2, 3, 4]\n",
            "Current search space: [2, 3, 4]\n",
            "Current search space: [4]\n",
            "Answer for third array: false\n"
          ]
        }
      ],
      "execution_count": 42,
      "metadata": {
        "jupyter": {
          "outputs_hidden": false,
          "source_hidden": false
        },
        "nteract": {
          "transient": {
            "deleting": false
          }
        },
        "execution": {
          "iopub.status.busy": "2020-10-10T01:01:40.618Z",
          "iopub.execute_input": "2020-10-10T01:01:40.621Z",
          "iopub.status.idle": "2020-10-10T01:01:40.628Z"
        }
      }
    },
    {
      "cell_type": "code",
      "source": [
        "println(\"Answer for test array: $(recursive_smart_search(test_arry, 1, length(test_arry)))\")\n",
        "println(\"Answer for second array: $(recursive_smart_search(test_arry2, 1, length(test_arry2)))\")\n",
        "println(\"Answer for third array: $(recursive_smart_search(test_arry3, 1, length(test_arry3)))\")\n"
      ],
      "outputs": [
        {
          "output_type": "stream",
          "name": "stdout",
          "text": [
            "Current search space: [-3, -2, -1, 4, 6, 9, 10]\n",
            "Answer for test array: true\n",
            "Current search space: [5, 6, 8, 9]\n",
            "Current search space: [5]\n",
            "Lower bound exceeds upper bound, returning false\n",
            "Answer for second array: false\n",
            "Current search space: [-1, 0, 1, 2, 3, 4]\n",
            "Current search space: [2, 3, 4]\n",
            "Current search space: [4]\n",
            "Lower bound exceeds upper bound, returning false\n",
            "Answer for third array: false\n"
          ]
        }
      ],
      "execution_count": 43,
      "metadata": {
        "execution": {
          "iopub.status.busy": "2020-10-10T01:01:41.237Z",
          "iopub.execute_input": "2020-10-10T01:01:41.240Z",
          "iopub.status.idle": "2020-10-10T01:01:41.248Z"
        }
      }
    },
    {
      "cell_type": "markdown",
      "source": [
        "# Proving Runtime Order\n",
        "\n",
        "Using the substitution to prove the hypothesis that the algorithm runs in $T(n) = O(\\log n)$ time. We start with the recursive statement of the time complexity:\n",
        "\n",
        "$$T(n) = 1 + T(n/2)$$\n",
        "\n",
        "where the order 1 operation represents the process of checking the inequalities for each function call and the $T(n/2)$ represents the act of calling the subsequent recursive call. We have the goal of reaching a closed-form solution for the time complexity (i.e. to prove that $T(n) = O(\\log n)$).\n",
        "\n",
        "**HYPOTHESIS**: We assume $T(n) = O(\\log n)$ for all cases $1,..., n-1$. Specifically, we let $m = n/2$ and assume that the following holds: $T(m) \\leq c\\log(m) \\to T(n/2) \\leq c\\log(n/2)$. Substituting this into the recurrence relation above, we get:\n",
        "\n",
        "**SUBSTITUTION**\n",
        "\n",
        "$$T(n) \\leq 1 + c\\log(n/2)$$\n",
        "$$\\leq 1+ c(\\log(n) - \\log(2))$$\n",
        "$$\\leq 1 + c\\log(n) - c\\log(2)$$\n",
        "$$\\leq 1 - c + c\\log(n)$$\n",
        "$$\\leq c\\log(n)$$\n",
        "\n",
        "Where the last algebraic step holds for $c > 1@\n",
        "\n",
        "**BOUNDARY CONDITIONS**\n",
        "\n",
        "Per page 84 of <<Textbook>>, we prove the inductive hypothesis for a specific boundary condition of $n_0 = 3$.\n",
        "  \n",
        "$$T(n) \\leq c\\log(n)$$\n",
        "$$T(3) \\leq c\\log(3)$$\n",
        "$$$$"
      ],
      "metadata": {
        "nteract": {
          "transient": {
            "deleting": false
          }
        }
      }
    },
    {
      "cell_type": "code",
      "source": [
        "\n"
      ],
      "outputs": [],
      "execution_count": null,
      "metadata": {
        "collapsed": true,
        "jupyter": {
          "source_hidden": false,
          "outputs_hidden": false
        },
        "nteract": {
          "transient": {
            "deleting": false
          }
        }
      }
    },
    {
      "cell_type": "code",
      "source": [],
      "outputs": [],
      "execution_count": null,
      "metadata": {
        "collapsed": true,
        "jupyter": {
          "source_hidden": false,
          "outputs_hidden": false
        },
        "nteract": {
          "transient": {
            "deleting": false
          }
        }
      }
    },
    {
      "cell_type": "code",
      "source": [],
      "outputs": [],
      "execution_count": null,
      "metadata": {
        "collapsed": true,
        "jupyter": {
          "source_hidden": false,
          "outputs_hidden": false
        },
        "nteract": {
          "transient": {
            "deleting": false
          }
        }
      }
    },
    {
      "cell_type": "code",
      "source": [],
      "outputs": [],
      "execution_count": null,
      "metadata": {
        "collapsed": true,
        "jupyter": {
          "source_hidden": false,
          "outputs_hidden": false
        },
        "nteract": {
          "transient": {
            "deleting": false
          }
        }
      }
    },
    {
      "cell_type": "code",
      "source": [],
      "outputs": [],
      "execution_count": null,
      "metadata": {
        "collapsed": true,
        "jupyter": {
          "source_hidden": false,
          "outputs_hidden": false
        },
        "nteract": {
          "transient": {
            "deleting": false
          }
        }
      }
    },
    {
      "cell_type": "code",
      "source": [],
      "outputs": [],
      "execution_count": null,
      "metadata": {
        "collapsed": true,
        "jupyter": {
          "source_hidden": false,
          "outputs_hidden": false
        },
        "nteract": {
          "transient": {
            "deleting": false
          }
        }
      }
    },
    {
      "cell_type": "code",
      "source": [],
      "outputs": [],
      "execution_count": null,
      "metadata": {
        "collapsed": true,
        "jupyter": {
          "source_hidden": false,
          "outputs_hidden": false
        },
        "nteract": {
          "transient": {
            "deleting": false
          }
        }
      }
    },
    {
      "cell_type": "code",
      "source": [],
      "outputs": [],
      "execution_count": null,
      "metadata": {
        "collapsed": true,
        "jupyter": {
          "source_hidden": false,
          "outputs_hidden": false
        },
        "nteract": {
          "transient": {
            "deleting": false
          }
        }
      }
    },
    {
      "cell_type": "code",
      "source": [],
      "outputs": [],
      "execution_count": null,
      "metadata": {
        "collapsed": true,
        "jupyter": {
          "source_hidden": false,
          "outputs_hidden": false
        },
        "nteract": {
          "transient": {
            "deleting": false
          }
        }
      }
    }
  ],
  "metadata": {
    "kernel_info": {
      "name": "julia-1.5"
    },
    "kernelspec": {
      "display_name": "Julia 1.5.1",
      "language": "julia",
      "name": "julia-1.5"
    },
    "language_info": {
      "file_extension": ".jl",
      "name": "julia",
      "mimetype": "application/julia",
      "version": "1.5.1"
    },
    "nteract": {
      "version": "0.25.1"
    }
  },
  "nbformat": 4,
  "nbformat_minor": 1
}