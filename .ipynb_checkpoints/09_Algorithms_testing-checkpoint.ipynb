{
 "cells": [
  {
   "cell_type": "markdown",
   "metadata": {
    "nteract": {
     "transient": {
      "deleting": false
     }
    }
   },
   "source": [
    "# ECE358: Homework 2, Problem 4\n",
    "\n",
    "**Input**: Sorted sequence of DISTINCT *intergers* $A = \\{a_1, a_2, ..., a_n\\}$\n",
    "\n",
    "**Goal**: Output whether there exists some $i \\in [n]$ such that $a_i = i$. Must be done in $O(\\log n)$ time."
   ]
  },
  {
   "cell_type": "code",
   "execution_count": 1,
   "metadata": {
    "execution": {
     "iopub.execute_input": "2020-10-09T23:50:05.199Z",
     "iopub.status.busy": "2020-10-09T23:50:05.196Z",
     "iopub.status.idle": "2020-10-09T23:50:05.207Z"
    },
    "jupyter": {
     "outputs_hidden": false,
     "source_hidden": false
    },
    "nteract": {
     "transient": {
      "deleting": false
     }
    }
   },
   "outputs": [
    {
     "data": {
      "text/plain": [
       "naive_search (generic function with 1 method)"
      ]
     },
     "execution_count": 1,
     "metadata": {},
     "output_type": "execute_result"
    }
   ],
   "source": [
    "# Function for testing purposes that works in $O(n)$ time.\n",
    "function naive_search(A)\n",
    "  for i = 1:length(A)\n",
    "    if A[i] == i\n",
    "      return true\n",
    "    end\n",
    "  end\n",
    "  return false\n",
    "end"
   ]
  },
  {
   "cell_type": "code",
   "execution_count": 2,
   "metadata": {
    "execution": {
     "iopub.execute_input": "2020-10-09T23:58:56.070Z",
     "iopub.status.busy": "2020-10-09T23:58:56.068Z",
     "iopub.status.idle": "2020-10-09T23:58:56.077Z"
    },
    "jupyter": {
     "outputs_hidden": false,
     "source_hidden": false
    },
    "nteract": {
     "transient": {
      "deleting": false
     }
    }
   },
   "outputs": [
    {
     "name": "stdout",
     "output_type": "stream",
     "text": [
      "Answer for test array: true\n",
      "Answer for second array: false\n"
     ]
    }
   ],
   "source": [
    "test_arry = [3 4 4 4 4 5 9 10] # ANSWER: TRUE\n",
    "test_arry2 = [5 6 8 9] # ANSWER FALSE\n",
    "\n",
    "println(\"Answer for test array: $(naive_search(test_arry))\")\n",
    "println(\"Answer for second array: $(naive_search(test_arry2))\")"
   ]
  },
  {
   "cell_type": "code",
   "execution_count": 8,
   "metadata": {
    "execution": {
     "iopub.execute_input": "2020-10-10T00:07:08.222Z",
     "iopub.status.busy": "2020-10-10T00:07:08.219Z",
     "iopub.status.idle": "2020-10-10T00:07:13.326Z"
    },
    "jupyter": {
     "outputs_hidden": false,
     "source_hidden": false
    },
    "nteract": {
     "transient": {
      "deleting": false
     }
    }
   },
   "outputs": [
    {
     "data": {
      "text/plain": [
       "smart_search (generic function with 1 method)"
      ]
     },
     "execution_count": 8,
     "metadata": {},
     "output_type": "execute_result"
    }
   ],
   "source": [
    "function smart_search(A)\n",
    "    lower_bound = 0\n",
    "    upper_bound = length(A)\n",
    "    k = length(A) ÷ 2\n",
    "\n",
    "    while lower_bound != upper_bound != k && k != 0\n",
    "        if A[k] == k\n",
    "            return true\n",
    "        elseif A[k] > k # A[k] is too large, indicating that all indices >k will be too \n",
    "                        # because of **distinct, orderedness**.\n",
    "            upper_bound = k\n",
    "            k = (upper_bound+lower_bound)÷2\n",
    "        else\n",
    "            lower_bound = k\n",
    "            k = (upper_bound+lower_bound)÷2\n",
    "        end \n",
    "    end\n",
    "    return false\n",
    "end"
   ]
  },
  {
   "cell_type": "code",
   "execution_count": 9,
   "metadata": {
    "jupyter": {
     "outputs_hidden": false,
     "source_hidden": false
    },
    "nteract": {
     "transient": {
      "deleting": false
     }
    }
   },
   "outputs": [
    {
     "name": "stdout",
     "output_type": "stream",
     "text": [
      "Answer for test array: true\n",
      "Answer for second array: false\n"
     ]
    }
   ],
   "source": [
    "println(\"Answer for test array: $(smart_search(test_arry))\")\n",
    "println(\"Answer for second array: $(smart_search(test_arry2))\")"
   ]
  },
  {
   "cell_type": "code",
   "execution_count": null,
   "metadata": {},
   "outputs": [],
   "source": []
  }
 ],
 "metadata": {
  "kernel_info": {
   "name": "julia-1.5"
  },
  "kernelspec": {
   "display_name": "Julia 1.5.1",
   "language": "julia",
   "name": "julia-1.5"
  },
  "language_info": {
   "file_extension": ".jl",
   "mimetype": "application/julia",
   "name": "julia",
   "version": "1.5.1"
  },
  "nteract": {
   "version": "0.25.1"
  }
 },
 "nbformat": 4,
 "nbformat_minor": 1
}
