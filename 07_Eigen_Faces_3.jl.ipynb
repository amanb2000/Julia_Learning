{
 "cells": [
  {
   "cell_type": "code",
   "execution_count": 11,
   "metadata": {},
   "outputs": [],
   "source": [
    "using Images\n",
    "using Colors\n",
    "using Statistics\n",
    "using FileIO\n",
    "using LinearAlgebra"
   ]
  },
  {
   "cell_type": "code",
   "execution_count": 2,
   "metadata": {},
   "outputs": [
    {
     "ename": "LoadError",
     "evalue": "UndefVarError: image_resize_tuple not defined",
     "output_type": "error",
     "traceback": [
      "UndefVarError: image_resize_tuple not defined",
      "",
      "Stacktrace:",
      " [1] top-level scope at In[2]:4",
      " [2] include_string(::Function, ::Module, ::String, ::String) at ./loading.jl:1091",
      " [3] execute_code(::String, ::String) at /Users/abhargava/.julia/packages/IJulia/rWZ9e/src/execute_request.jl:27",
      " [4] execute_request(::ZMQ.Socket, ::IJulia.Msg) at /Users/abhargava/.julia/packages/IJulia/rWZ9e/src/execute_request.jl:86",
      " [5] #invokelatest#1 at ./essentials.jl:710 [inlined]",
      " [6] invokelatest at ./essentials.jl:709 [inlined]",
      " [7] eventloop(::ZMQ.Socket) at /Users/abhargava/.julia/packages/IJulia/rWZ9e/src/eventloop.jl:8",
      " [8] (::IJulia.var\"#15#18\")() at ./task.jl:356"
     ]
    }
   ],
   "source": [
    "# Some Governing Constants\n",
    "\n",
    "im_dims = (100, 80)\n",
    "typeof(image_resize_tuple)"
   ]
  },
  {
   "cell_type": "code",
   "execution_count": 32,
   "metadata": {},
   "outputs": [
    {
     "data": {
      "text/plain": [
       "get_max_1 (generic function with 1 method)"
      ]
     },
     "execution_count": 32,
     "metadata": {},
     "output_type": "execute_result"
    }
   ],
   "source": [
    "# Function for getting an nxm matrix from an image path.\n",
    "\n",
    "function get_bw_img_arry(path, im_dims)\n",
    "    image = imresize(load(path), im_dims)\n",
    "\n",
    "    chan = channelview(image)[1,:,:]\n",
    "    return chan\n",
    "end\n",
    "\n",
    "function back_to_2d(image_arry, im_dims)\n",
    "    return reshape(image_arry, im_dims)\n",
    "end\n",
    "\n",
    "function get_max_1(image_arry)\n",
    "    return (image_arry/mean(image_arry))/2\n",
    "end\n"
   ]
  },
  {
   "cell_type": "code",
   "execution_count": 26,
   "metadata": {},
   "outputs": [],
   "source": [
    "base_path = \"images/nottingham/\";\n",
    "file = open(string(base_path,\"filenames.txt\"));\n",
    "image_names = readlines(file);"
   ]
  },
  {
   "cell_type": "code",
   "execution_count": null,
   "metadata": {},
   "outputs": [],
   "source": []
  },
  {
   "cell_type": "code",
   "execution_count": 27,
   "metadata": {},
   "outputs": [
    {
     "data": {
      "text/plain": [
       "(100, 8000)"
      ]
     },
     "execution_count": 27,
     "metadata": {},
     "output_type": "execute_result"
    }
   ],
   "source": [
    "images = zeros(length(image_names), im_dims[1], im_dims[2]);\n",
    "average_face = zeros(im_dims)\n",
    "\n",
    "for i = 1:length(image_names)\n",
    "    global images[i,:,:] = get_bw_img_arry(string(base_path,image_names[i]), im_dims);\n",
    "    global average_face += images[i,:,:]/length(image_names);\n",
    "end\n",
    "\n",
    "# Vectorizing\n",
    "\n",
    "images = reshape(images, (size(images,1), im_dims[1]*im_dims[2]))\n",
    "\n",
    "size(images)"
   ]
  },
  {
   "cell_type": "code",
   "execution_count": 75,
   "metadata": {},
   "outputs": [
    {
     "data": {
      "image/png": "[encoded data removed]",
      "text/plain": [
       "100×80 Array{Gray{Float64},2} with eltype Gray{Float64}:\n",
       " Gray{Float64}(0.880941)  Gray{Float64}(0.808784)  …  Gray{Float64}(0.809608)\n",
       " Gray{Float64}(0.88251)   Gray{Float64}(0.808039)     Gray{Float64}(0.79902)\n",
       " Gray{Float64}(0.880549)  Gray{Float64}(0.809412)     Gray{Float64}(0.793608)\n",
       " Gray{Float64}(0.885569)  Gray{Float64}(0.809647)     Gray{Float64}(0.788039)\n",
       " Gray{Float64}(0.886)     Gray{Float64}(0.80902)      Gray{Float64}(0.784314)\n",
       " Gray{Float64}(0.88149)   Gray{Float64}(0.806431)  …  Gray{Float64}(0.782157)\n",
       " Gray{Float64}(0.87749)   Gray{Float64}(0.806471)     Gray{Float64}(0.781843)\n",
       " Gray{Float64}(0.876863)  Gray{Float64}(0.812196)     Gray{Float64}(0.783294)\n",
       " Gray{Float64}(0.879882)  Gray{Float64}(0.806824)     Gray{Float64}(0.77749)\n",
       " Gray{Float64}(0.875843)  Gray{Float64}(0.805569)     Gray{Float64}(0.782667)\n",
       " Gray{Float64}(0.882314)  Gray{Float64}(0.803961)  …  Gray{Float64}(0.798745)\n",
       " Gray{Float64}(0.879804)  Gray{Float64}(0.804902)     Gray{Float64}(0.80251)\n",
       " Gray{Float64}(0.879804)  Gray{Float64}(0.799373)     Gray{Float64}(0.806902)\n",
       " ⋮                                                 ⋱  \n",
       " Gray{Float64}(0.719451)  Gray{Float64}(0.550941)     Gray{Float64}(0.380431)\n",
       " Gray{Float64}(0.717961)  Gray{Float64}(0.552588)     Gray{Float64}(0.35898)\n",
       " Gray{Float64}(0.719765)  Gray{Float64}(0.556314)  …  Gray{Float64}(0.358824)\n",
       " Gray{Float64}(0.72)      Gray{Float64}(0.553961)     Gray{Float64}(0.380118)\n",
       " Gray{Float64}(0.71749)   Gray{Float64}(0.558)        Gray{Float64}(0.389098)\n",
       " Gray{Float64}(0.716431)  Gray{Float64}(0.564039)     Gray{Float64}(0.435804)\n",
       " Gray{Float64}(0.719882)  Gray{Float64}(0.564941)     Gray{Float64}(0.466941)\n",
       " Gray{Float64}(0.718824)  Gray{Float64}(0.568902)  …  Gray{Float64}(0.491765)\n",
       " Gray{Float64}(0.754314)  Gray{Float64}(0.614039)     Gray{Float64}(0.524549)\n",
       " Gray{Float64}(0.766667)  Gray{Float64}(0.623529)     Gray{Float64}(0.570392)\n",
       " Gray{Float64}(0.773647)  Gray{Float64}(0.649059)     Gray{Float64}(0.597059)\n",
       " Gray{Float64}(0.805059)  Gray{Float64}(0.696824)     Gray{Float64}(0.672549)"
      ]
     },
     "execution_count": 75,
     "metadata": {},
     "output_type": "execute_result"
    }
   ],
   "source": [
    "# Gray.(back_to_2d(images[2,:])) # Outputting the average face.\n",
    "avg_face = sum(images, dims=1)/size(images, 1)\n",
    "# avg_face = back_to_2d(avg_face, im_dims)\n",
    "Gray.(back_to_2d(avg_face, im_dims))"
   ]
  },
  {
   "cell_type": "code",
   "execution_count": 78,
   "metadata": {},
   "outputs": [
    {
     "name": "stdout",
     "output_type": "stream",
     "text": [
      "Average face [1]: 0.8758431372549019\n",
      "Average face [1]: 0.8758431372549019\n"
     ]
    },
    {
     "data": {
      "image/png": "[encoded data removed]",
      "text/plain": [
       "100×80 Array{Gray{Float64},2} with eltype Gray{Float64}:\n",
       " Gray{Float64}(-0.0652549)  …  Gray{Float64}(-0.142941)\n",
       " Gray{Float64}(-0.062902)      Gray{Float64}(-0.108824)\n",
       " Gray{Float64}(-0.0648627)     Gray{Float64}(-0.0955686)\n",
       " Gray{Float64}(-0.0620392)     Gray{Float64}(-0.129216)\n",
       " Gray{Float64}(-0.0663922)     Gray{Float64}(-0.113725)\n",
       " Gray{Float64}(-0.0579608)  …  Gray{Float64}(-0.123333)\n",
       " Gray{Float64}(-0.0578824)     Gray{Float64}(-0.0955686)\n",
       " Gray{Float64}(-0.0533333)     Gray{Float64}(-0.0970196)\n",
       " Gray{Float64}(-0.0602745)     Gray{Float64}(-0.12651)\n",
       " Gray{Float64}(-0.0523137)     Gray{Float64}(-0.0650196)\n",
       " Gray{Float64}(-0.0627059)  …  Gray{Float64}(-0.0889412)\n",
       " Gray{Float64}(-0.0601961)     Gray{Float64}(-0.116235)\n",
       " Gray{Float64}(-0.0523529)     Gray{Float64}(-0.0931765)\n",
       " ⋮                          ⋱  \n",
       " Gray{Float64}(0.0570196)      Gray{Float64}(-0.258863)\n",
       " Gray{Float64}(0.0545882)      Gray{Float64}(-0.229569)\n",
       " Gray{Float64}(0.0410196)   …  Gray{Float64}(-0.245098)\n",
       " Gray{Float64}(0.0368627)      Gray{Float64}(-0.250706)\n",
       " Gray{Float64}(0.0432941)      Gray{Float64}(-0.263608)\n",
       " Gray{Float64}(0.0482745)      Gray{Float64}(-0.314235)\n",
       " Gray{Float64}(0.0369804)      Gray{Float64}(-0.329686)\n",
       " Gray{Float64}(0.0419608)   …  Gray{Float64}(-0.362353)\n",
       " Gray{Float64}(0.00254902)     Gray{Float64}(-0.391216)\n",
       " Gray{Float64}(0.00196078)     Gray{Float64}(-0.44098)\n",
       " Gray{Float64}(-0.0128627)     Gray{Float64}(-0.459804)\n",
       " Gray{Float64}(-0.0442745)     Gray{Float64}(-0.531373)"
      ]
     },
     "execution_count": 78,
     "metadata": {},
     "output_type": "execute_result"
    }
   ],
   "source": [
    "normed_faces = copy(images)\n",
    "\n",
    "println(\"Average face [1]: \",avg_face[10])\n",
    "avg_face = reshape(avg_face, (8000))\n",
    "println(\"Average face [1]: \",avg_face[10])\n",
    "\n",
    "for i = 1:size(images,1)\n",
    "    normed_faces[i,:] = images[i,:]-avg_face\n",
    "end\n",
    "\n",
    "Gray.(back_to_2d(normed_faces[4,:], im_dims))"
   ]
  },
  {
   "cell_type": "code",
   "execution_count": 59,
   "metadata": {},
   "outputs": [
    {
     "data": {
      "text/plain": [
       "(8000, 8000)"
      ]
     },
     "execution_count": 59,
     "metadata": {},
     "output_type": "execute_result"
    }
   ],
   "source": [
    "cov_mat = cov(normed_faces, dims=1)\n",
    "size(cov_mat)"
   ]
  },
  {
   "cell_type": "code",
   "execution_count": 60,
   "metadata": {},
   "outputs": [
    {
     "data": {
      "text/plain": [
       "Eigen{Float64,Float64,Array{Float64,2},Array{Float64,1}}\n",
       "values:\n",
       "8000-element Array{Float64,1}:\n",
       " -3.9592136237594926e-14\n",
       " -3.9481064036993756e-14\n",
       " -3.0445387611327004e-14\n",
       " -2.609248468206828e-14\n",
       " -2.4950414490227653e-14\n",
       " -1.6929487356258506e-14\n",
       " -1.3698660281143365e-14\n",
       " -9.54551878448245e-15\n",
       " -5.900261968480345e-15\n",
       " -4.943727556700156e-15\n",
       " -4.4414572235592764e-15\n",
       " -4.122142398844372e-15\n",
       " -3.933442154012103e-15\n",
       "  ⋮\n",
       "  7.748721300594935\n",
       "  8.357863977452832\n",
       " 11.197312645674094\n",
       " 11.99584070167494\n",
       " 16.112008346183455\n",
       " 16.753418425787117\n",
       " 21.324124927193445\n",
       " 27.324727993875438\n",
       " 28.93199981497125\n",
       " 33.413302306648184\n",
       " 46.64530157316015\n",
       " 50.46073609769612\n",
       "vectors:\n",
       "8000×8000 Array{Float64,2}:\n",
       "  0.0139104    -0.00366048   0.0184353   …   0.0146683    0.00380369\n",
       "  0.00289497   -0.00661165  -0.00651868      0.014625     0.00337032\n",
       "  0.0102023     0.0251866    0.0112676       0.0151797    0.00363294\n",
       "  0.00576926   -0.0067819    0.00755553      0.014368     0.00361039\n",
       " -0.00882647   -0.0106958   -0.00897497      0.0144173    0.00327379\n",
       "  0.00738336   -0.00437069   0.00153243  …   0.0149129    0.00375852\n",
       " -0.000533074  -0.00251282   0.00315463      0.0149497    0.00385619\n",
       " -0.00218119    0.00356192  -0.00315302      0.0152261    0.0033295\n",
       "  0.00406844    0.00225756   0.00362756      0.0149296    0.00353577\n",
       "  0.000635047   0.0027351   -0.00225721      0.014968     0.00350588\n",
       "  0.00136367    0.00148109   0.0182968   …   0.0144234    0.00347133\n",
       "  0.00939374    0.0110062    0.00629815      0.0142411    0.00334313\n",
       " -0.0126478     0.00104258  -0.0150474       0.0140595    0.00320783\n",
       "  ⋮                                      ⋱               \n",
       "  0.0371375     0.0598758    0.0485877      -0.0108297    0.00330855\n",
       "  0.00215825    0.0253752    0.0808983      -0.0101741    0.00314283\n",
       "  0.0544387     0.100222     0.188989    …  -0.00787713   0.00392222\n",
       "  0.0053877     0.0523372   -0.0519564      -0.00377277  -0.00028905\n",
       " -0.0204939     0.0330482    0.161318       -0.00151386   0.000404091\n",
       "  0.549961     -0.245011    -0.379096        0.00259624  -0.00202779\n",
       " -0.0454671     0.00686338  -0.0863958       0.00877127  -0.000825352\n",
       "  0.177966     -0.382401     0.464886    …   0.0127228   -0.00147754\n",
       " -0.34446      -0.513236    -0.0805326       0.0155346   -0.00376771\n",
       " -0.25974       0.101791    -0.00961633      0.0199839   -0.00374082\n",
       "  0.0833931     0.102406     0.299322        0.0206751   -0.00536577\n",
       "  0.0815771     0.0          0.0             0.0185815   -0.00221646"
      ]
     },
     "execution_count": 60,
     "metadata": {},
     "output_type": "execute_result"
    }
   ],
   "source": [
    "F = eigen(cov_mat)"
   ]
  },
  {
   "cell_type": "code",
   "execution_count": 63,
   "metadata": {},
   "outputs": [
    {
     "data": {
      "text/plain": [
       "8000-element Array{Float64,1}:\n",
       " -3.9592136237594926e-14\n",
       " -3.9481064036993756e-14\n",
       " -3.0445387611327004e-14\n",
       " -2.609248468206828e-14\n",
       " -2.4950414490227653e-14\n",
       " -1.6929487356258506e-14\n",
       " -1.3698660281143365e-14\n",
       " -9.54551878448245e-15\n",
       " -5.900261968480345e-15\n",
       " -4.943727556700156e-15\n",
       " -4.4414572235592764e-15\n",
       " -4.122142398844372e-15\n",
       " -3.933442154012103e-15\n",
       "  ⋮\n",
       "  7.748721300594935\n",
       "  8.357863977452832\n",
       " 11.197312645674094\n",
       " 11.99584070167494\n",
       " 16.112008346183455\n",
       " 16.753418425787117\n",
       " 21.324124927193445\n",
       " 27.324727993875438\n",
       " 28.93199981497125\n",
       " 33.413302306648184\n",
       " 46.64530157316015\n",
       " 50.46073609769612"
      ]
     },
     "execution_count": 63,
     "metadata": {},
     "output_type": "execute_result"
    }
   ],
   "source": [
    "F.values"
   ]
  },
  {
   "cell_type": "code",
   "execution_count": 92,
   "metadata": {},
   "outputs": [
    {
     "data": {
      "image/png": "[encoded data removed]",
      "text/plain": [
       "100×80 Array{Gray{Float64},2} with eltype Gray{Float64}:\n",
       " Gray{Float64}(1.05035)    …  Gray{Float64}(0.849274)\n",
       " Gray{Float64}(0.711461)      Gray{Float64}(0.993156)\n",
       " Gray{Float64}(1.19485)       Gray{Float64}(1.60875)\n",
       " Gray{Float64}(0.717728)      Gray{Float64}(-0.00868727)\n",
       " Gray{Float64}(0.748434)      Gray{Float64}(0.383074)\n",
       " Gray{Float64}(1.06294)    …  Gray{Float64}(0.574844)\n",
       " Gray{Float64}(0.516046)      Gray{Float64}(1.80697)\n",
       " Gray{Float64}(0.862768)      Gray{Float64}(0.359766)\n",
       " Gray{Float64}(0.895814)      Gray{Float64}(0.673956)\n",
       " Gray{Float64}(1.08205)       Gray{Float64}(0.775191)\n",
       " Gray{Float64}(0.863932)   …  Gray{Float64}(0.987735)\n",
       " Gray{Float64}(1.15068)       Gray{Float64}(1.0303)\n",
       " Gray{Float64}(0.650102)      Gray{Float64}(0.548741)\n",
       " ⋮                         ⋱  \n",
       " Gray{Float64}(0.0521352)     Gray{Float64}(0.373849)\n",
       " Gray{Float64}(1.69011)       Gray{Float64}(0.344832)\n",
       " Gray{Float64}(1.69955)    …  Gray{Float64}(0.344187)\n",
       " Gray{Float64}(0.544298)      Gray{Float64}(0.367277)\n",
       " Gray{Float64}(0.762814)      Gray{Float64}(0.384084)\n",
       " Gray{Float64}(-0.205137)     Gray{Float64}(0.438258)\n",
       " Gray{Float64}(1.27555)       Gray{Float64}(0.466188)\n",
       " Gray{Float64}(0.256363)   …  Gray{Float64}(0.506896)\n",
       " Gray{Float64}(0.858376)      Gray{Float64}(0.529015)\n",
       " Gray{Float64}(0.451233)      Gray{Float64}(0.551229)\n",
       " Gray{Float64}(1.24638)       Gray{Float64}(0.584555)\n",
       " Gray{Float64}(0.529515)      Gray{Float64}(0.672549)"
      ]
     },
     "execution_count": 92,
     "metadata": {},
     "output_type": "execute_result"
    }
   ],
   "source": [
    "PCA_VIS = F.vectors[:,99]*30+avg_face\n",
    "\n",
    "Gray.(back_to_2d(PCA_VIS, im_dims))"
   ]
  },
  {
   "cell_type": "code",
   "execution_count": null,
   "metadata": {},
   "outputs": [],
   "source": []
  }
 ],
 "metadata": {
  "kernelspec": {
   "display_name": "Julia 1.5.1",
   "language": "julia",
   "name": "julia-1.5"
  },
  "language_info": {
   "file_extension": ".jl",
   "mimetype": "application/julia",
   "name": "julia",
   "version": "1.5.1"
  }
 },
 "nbformat": 4,
 "nbformat_minor": 4
}
