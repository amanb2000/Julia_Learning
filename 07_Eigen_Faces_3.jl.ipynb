{
 "cells": [
  {
   "cell_type": "markdown",
   "metadata": {},
   "source": [
    "# EigenFaces Demo: Julia\n",
    "\n",
    "This IJulia notebook goes through an entire implementation of the EigenFaces demo. The dataset used was from UMass's [LFW Face Database](http://vis-www.cs.umass.edu/lfw/#explore). \n",
    "\n",
    "The steps for the demo are as follows:\n",
    "\n",
    "1. Define the desired size of the images (inputs were re-sized for this).\n",
    "2. Import all images, resizing them as needed and turning to gray-scale.\n",
    "3. Reshape the images (vectorize) such that the final datastructure is 2-dimensional (a set )\n",
    "4. Subtracting the mean vector from all image vectors (prep for eigen decomposition).\n",
    "5. Solve for the covariance of all vector indexes.\n",
    "6. Solve for the eigen decomposition of the covariance matrix.\n",
    "7. 'Prioritize' eigen vectors by their eigen values -> create approximations/display principal components."
   ]
  },
  {
   "cell_type": "code",
   "execution_count": 2,
   "metadata": {},
   "outputs": [],
   "source": [
    "using Images, Plots, TestImages\n",
    "using ImageShow\n",
    "using Colors\n",
    "using Statistics\n",
    "using FileIO\n",
    "using LinearAlgebra"
   ]
  },
  {
   "cell_type": "code",
   "execution_count": 3,
   "metadata": {},
   "outputs": [],
   "source": [
    "# Some Governing Constants\n",
    "\n",
    "im_dims = (100, 100)\n",
    "typeof(im_dims)\n",
    "\n",
    "base_path = \"images/lfw/\";\n",
    "file = open(string(base_path,\"filenames.txt\"));\n",
    "image_names = readlines(file);"
   ]
  },
  {
   "cell_type": "code",
   "execution_count": 4,
   "metadata": {},
   "outputs": [
    {
     "data": {
      "text/plain": [
       "get_max_1 (generic function with 1 method)"
      ]
     },
     "execution_count": 4,
     "metadata": {},
     "output_type": "execute_result"
    }
   ],
   "source": [
    "# Function for getting an nxm matrix from an image path.\n",
    "\n",
    "function get_bw_img_arry(path, im_dims)\n",
    "    image = imresize(load(path), im_dims)\n",
    "\n",
    "    chan = channelview(image)[1,:,:]\n",
    "    return chan\n",
    "end\n",
    "\n",
    "function back_to_2d(image_arry, im_dims)\n",
    "    return reshape(image_arry, im_dims)\n",
    "end\n",
    "\n",
    "function get_max_1(image_arry)\n",
    "    return (image_arry/maximum(image_arry))\n",
    "end\n"
   ]
  },
  {
   "cell_type": "code",
   "execution_count": 5,
   "metadata": {},
   "outputs": [
    {
     "data": {
      "text/plain": [
       "(5749, 10000)"
      ]
     },
     "execution_count": 5,
     "metadata": {},
     "output_type": "execute_result"
    }
   ],
   "source": [
    "# Importing the Images\n",
    "\n",
    "images = zeros(length(image_names), im_dims[1], im_dims[2]);\n",
    "average_face = zeros(im_dims)\n",
    "\n",
    "for i = 1:length(image_names)\n",
    "    global images[i,:,:] = get_bw_img_arry(string(base_path,image_names[i],\"/\",image_names[i],\"_0001.jpg\"), im_dims);\n",
    "    global average_face += images[i,:,:]/length(image_names);\n",
    "end\n",
    "\n",
    "# Vectorizing images (reshape)\n",
    "\n",
    "images = reshape(images, (size(images,1), im_dims[1]*im_dims[2]))\n",
    "\n",
    "size(images) # Error checking the dimensions of the final data structure."
   ]
  },
  {
   "cell_type": "code",
   "execution_count": 6,
   "metadata": {},
   "outputs": [
    {
     "data": {
      "image/png": "[encoded data removed]",
      "text/plain": [
       "100×100 Array{Gray{Float64},2} with eltype Gray{Float64}:\n",
       " Gray{Float64}(0.231907)  Gray{Float64}(0.235847)  …  Gray{Float64}(0.233763)\n",
       " Gray{Float64}(0.2463)    Gray{Float64}(0.250094)     Gray{Float64}(0.248704)\n",
       " Gray{Float64}(0.259784)  Gray{Float64}(0.263583)     Gray{Float64}(0.261506)\n",
       " Gray{Float64}(0.276102)  Gray{Float64}(0.280537)     Gray{Float64}(0.278012)\n",
       " Gray{Float64}(0.294158)  Gray{Float64}(0.298273)     Gray{Float64}(0.297104)\n",
       " Gray{Float64}(0.310564)  Gray{Float64}(0.314514)  …  Gray{Float64}(0.313092)\n",
       " Gray{Float64}(0.326715)  Gray{Float64}(0.330095)     Gray{Float64}(0.329006)\n",
       " Gray{Float64}(0.339443)  Gray{Float64}(0.34362)      Gray{Float64}(0.343307)\n",
       " Gray{Float64}(0.353496)  Gray{Float64}(0.358483)     Gray{Float64}(0.357159)\n",
       " Gray{Float64}(0.36555)   Gray{Float64}(0.371305)     Gray{Float64}(0.369175)\n",
       " Gray{Float64}(0.373847)  Gray{Float64}(0.380312)  …  Gray{Float64}(0.378613)\n",
       " Gray{Float64}(0.378637)  Gray{Float64}(0.385203)     Gray{Float64}(0.383439)\n",
       " Gray{Float64}(0.382138)  Gray{Float64}(0.388195)     Gray{Float64}(0.385561)\n",
       " ⋮                                                 ⋱  \n",
       " Gray{Float64}(0.362125)  Gray{Float64}(0.36683)      Gray{Float64}(0.349599)\n",
       " Gray{Float64}(0.361614)  Gray{Float64}(0.365968)     Gray{Float64}(0.349258)\n",
       " Gray{Float64}(0.359054)  Gray{Float64}(0.363809)  …  Gray{Float64}(0.347535)\n",
       " Gray{Float64}(0.354836)  Gray{Float64}(0.360498)     Gray{Float64}(0.345768)\n",
       " Gray{Float64}(0.352026)  Gray{Float64}(0.356135)     Gray{Float64}(0.344032)\n",
       " Gray{Float64}(0.349419)  Gray{Float64}(0.353846)     Gray{Float64}(0.341246)\n",
       " Gray{Float64}(0.345975)  Gray{Float64}(0.350676)     Gray{Float64}(0.337844)\n",
       " Gray{Float64}(0.343771)  Gray{Float64}(0.348483)  …  Gray{Float64}(0.336318)\n",
       " Gray{Float64}(0.342758)  Gray{Float64}(0.346987)     Gray{Float64}(0.33425)\n",
       " Gray{Float64}(0.340301)  Gray{Float64}(0.344691)     Gray{Float64}(0.331959)\n",
       " Gray{Float64}(0.338232)  Gray{Float64}(0.341573)     Gray{Float64}(0.33103)\n",
       " Gray{Float64}(0.337181)  Gray{Float64}(0.339443)     Gray{Float64}(0.330331)"
      ]
     },
     "execution_count": 6,
     "metadata": {},
     "output_type": "execute_result"
    }
   ],
   "source": [
    "# Observing the 'average face'\n",
    "avg_face = sum(images, dims=1)/size(images, 1)\n",
    "Gray.(back_to_2d(avg_face, im_dims))"
   ]
  },
  {
   "cell_type": "code",
   "execution_count": 7,
   "metadata": {},
   "outputs": [
    {
     "data": {
      "image/png": "[encoded data removed]",
      "text/plain": [
       "100×100 Array{Gray{Float64},2} with eltype Gray{Float64}:\n",
       " Gray{Float64}(-0.231907)  …  Gray{Float64}(-0.233763)\n",
       " Gray{Float64}(-0.2463)       Gray{Float64}(-0.248704)\n",
       " Gray{Float64}(-0.259784)     Gray{Float64}(-0.261506)\n",
       " Gray{Float64}(-0.276102)     Gray{Float64}(-0.278012)\n",
       " Gray{Float64}(-0.294158)     Gray{Float64}(-0.297104)\n",
       " Gray{Float64}(-0.310564)  …  Gray{Float64}(-0.313092)\n",
       " Gray{Float64}(-0.326715)     Gray{Float64}(-0.329006)\n",
       " Gray{Float64}(-0.311992)     Gray{Float64}(-0.331542)\n",
       " Gray{Float64}(-0.13781)      Gray{Float64}(-0.251277)\n",
       " Gray{Float64}(-0.138099)     Gray{Float64}(-0.243684)\n",
       " Gray{Float64}(-0.146396)  …  Gray{Float64}(-0.257045)\n",
       " Gray{Float64}(-0.147264)     Gray{Float64}(-0.254027)\n",
       " Gray{Float64}(-0.146844)     Gray{Float64}(-0.267914)\n",
       " ⋮                         ⋱  \n",
       " Gray{Float64}(-0.228791)     Gray{Float64}(-0.118226)\n",
       " Gray{Float64}(-0.232202)     Gray{Float64}(-0.133572)\n",
       " Gray{Float64}(-0.221799)  …  Gray{Float64}(-0.143614)\n",
       " Gray{Float64}(-0.217581)     Gray{Float64}(-0.153611)\n",
       " Gray{Float64}(-0.222615)     Gray{Float64}(-0.159718)\n",
       " Gray{Float64}(-0.239615)     Gray{Float64}(-0.149089)\n",
       " Gray{Float64}(-0.20872)      Gray{Float64}(-0.161373)\n",
       " Gray{Float64}(-0.194751)  …  Gray{Float64}(-0.183377)\n",
       " Gray{Float64}(-0.225111)     Gray{Float64}(-0.149936)\n",
       " Gray{Float64}(-0.226576)     Gray{Float64}(-0.131959)\n",
       " Gray{Float64}(-0.165683)     Gray{Float64}(-0.115344)\n",
       " Gray{Float64}(-0.141103)     Gray{Float64}(-0.0989587)"
      ]
     },
     "execution_count": 7,
     "metadata": {},
     "output_type": "execute_result"
    }
   ],
   "source": [
    "# Subtracting the average from each example.\n",
    "\n",
    "normed_faces = copy(images)\n",
    "avg_face = reshape(avg_face, (im_dims[1]*im_dims[2]))\n",
    "\n",
    "for i = 1:size(images,1)\n",
    "    normed_faces[i,:] = images[i,:]-avg_face\n",
    "end\n",
    "\n",
    "# Visualizing a sample face after mean subtraction.\n",
    "\n",
    "Gray.(back_to_2d(normed_faces[1000,:], im_dims))"
   ]
  },
  {
   "cell_type": "code",
   "execution_count": 8,
   "metadata": {},
   "outputs": [
    {
     "data": {
      "text/plain": [
       "(10000, 10000)"
      ]
     },
     "execution_count": 8,
     "metadata": {},
     "output_type": "execute_result"
    }
   ],
   "source": [
    "# Solving for the covariance matrix of the normed faces.\n",
    "cov_mat = cov(normed_faces, dims=1)\n",
    "size(cov_mat)"
   ]
  },
  {
   "cell_type": "code",
   "execution_count": 9,
   "metadata": {},
   "outputs": [
    {
     "data": {
      "text/plain": [
       "Eigen{Float64,Float64,Array{Float64,2},Array{Float64,1}}\n",
       "values:\n",
       "10000-element Array{Float64,1}:\n",
       "  -8.508947507170903e-14\n",
       "  -5.2179755757386275e-14\n",
       "  -3.808832525702459e-14\n",
       "  -3.6126963191809103e-14\n",
       "  -3.161795869522076e-14\n",
       "  -2.623332415132032e-14\n",
       "  -2.2351892874974704e-14\n",
       "  -1.9221689993810778e-14\n",
       "  -1.8375632794578326e-14\n",
       "  -1.816908295284651e-14\n",
       "  -1.758957654530605e-14\n",
       "  -1.3772906728090275e-14\n",
       "  -1.3512235353144747e-14\n",
       "   ⋮\n",
       "  10.619928156017824\n",
       "  12.231852917290551\n",
       "  14.65802405709761\n",
       "  15.404215051464814\n",
       "  17.134031025756286\n",
       "  20.23933706103787\n",
       "  21.620033261008327\n",
       "  31.083127952350637\n",
       "  35.959931567882094\n",
       "  39.44533673204209\n",
       "  71.60542705351187\n",
       " 201.1171537239889\n",
       "vectors:\n",
       "10000×10000 Array{Float64,2}:\n",
       "  0.00409178  -0.00788703   …  0.0257839    0.00414419  0.009739\n",
       " -0.0110762    0.00856872      0.0268563    0.00458313  0.0105029\n",
       " -0.00215411   0.00597949      0.0271401    0.0048886   0.0109798\n",
       " -0.00200421   0.0102601       0.026483     0.00522351  0.0117201\n",
       "  0.0165248   -0.00195541      0.0251459    0.00519891  0.0123317\n",
       "  0.00239885  -0.0067854    …  0.0232474    0.00531967  0.0127661\n",
       " -0.0138634   -0.0121172       0.0207567    0.0051101   0.0133113\n",
       "  0.0103403    0.0123846       0.0182296    0.00515966  0.0136114\n",
       "  0.00374075   0.0144491       0.0150208    0.0050402   0.013871\n",
       "  0.00638218   1.14582e-5      0.0119495    0.0045798   0.0140679\n",
       " -0.0136258   -0.0072628    …  0.00902896   0.00440124  0.0141888\n",
       " -0.00390791   0.00782288      0.00701943   0.0042141   0.0141792\n",
       "  0.00295772  -0.0139022       0.00581288   0.0041182   0.0141371\n",
       "  ⋮                         ⋱                           \n",
       " -0.00772849  -0.000281774     0.00152753  -0.0157673   0.00654465\n",
       " -0.0223558    0.00950641      0.00183544  -0.0161758   0.00634792\n",
       "  0.00303663   0.000989916  …  0.00217039  -0.0167539   0.00603502\n",
       "  0.0385893   -0.00172569      0.00260192  -0.0172139   0.00569288\n",
       " -0.0439582   -0.00577684      0.00296873  -0.0175747   0.00546444\n",
       "  0.0188677    0.0415869       0.00333108  -0.017885    0.00525807\n",
       " -0.0579345   -0.215257        0.00341326  -0.0179634   0.00498642\n",
       "  0.147491     0.344211     …  0.00375591  -0.0180713   0.00484984\n",
       " -0.270887    -0.187115        0.00361819  -0.0182276   0.004712\n",
       "  0.37385     -0.0747513       0.00372977  -0.0184085   0.00452572\n",
       " -0.251091     0.204344        0.00386531  -0.0186202   0.00428316\n",
       "  0.0732392   -0.0855519       0.00408063  -0.0188499   0.00401756"
      ]
     },
     "execution_count": 9,
     "metadata": {},
     "output_type": "execute_result"
    }
   ],
   "source": [
    "# Solving for the eigen decomposition of the faces.\n",
    "F = eigen(cov_mat)"
   ]
  },
  {
   "cell_type": "code",
   "execution_count": 10,
   "metadata": {},
   "outputs": [
    {
     "data": {
      "text/plain": [
       "10000-element Array{Float64,1}:\n",
       "  -8.508947507170903e-14\n",
       "  -5.2179755757386275e-14\n",
       "  -3.808832525702459e-14\n",
       "  -3.6126963191809103e-14\n",
       "  -3.161795869522076e-14\n",
       "  -2.623332415132032e-14\n",
       "  -2.2351892874974704e-14\n",
       "  -1.9221689993810778e-14\n",
       "  -1.8375632794578326e-14\n",
       "  -1.816908295284651e-14\n",
       "  -1.758957654530605e-14\n",
       "  -1.3772906728090275e-14\n",
       "  -1.3512235353144747e-14\n",
       "   ⋮\n",
       "  10.619928156017824\n",
       "  12.231852917290551\n",
       "  14.65802405709761\n",
       "  15.404215051464814\n",
       "  17.134031025756286\n",
       "  20.23933706103787\n",
       "  21.620033261008327\n",
       "  31.083127952350637\n",
       "  35.959931567882094\n",
       "  39.44533673204209\n",
       "  71.60542705351187\n",
       " 201.1171537239889"
      ]
     },
     "execution_count": 10,
     "metadata": {},
     "output_type": "execute_result"
    }
   ],
   "source": [
    "F.values"
   ]
  },
  {
   "cell_type": "code",
   "execution_count": 33,
   "metadata": {},
   "outputs": [
    {
     "data": {
      "text/plain": [
       "(100, 100, 10000)"
      ]
     },
     "execution_count": 33,
     "metadata": {},
     "output_type": "execute_result"
    }
   ],
   "source": [
    "# # Creating a visualizable set of eigenvectors (principal components).\n",
    "PCA_STACK = zeros( im_dims[1], im_dims[2], size(F.vectors,2) )\n",
    "\n",
    "for i = 1:size(normed_faces, 2)\n",
    "    PCA_STACK[:,:,i] = get_max_1(back_to_2d(F.vectors[:,i], im_dims))\n",
    "end\n",
    "\n",
    "size(PCA_STACK)"
   ]
  },
  {
   "cell_type": "code",
   "execution_count": 56,
   "metadata": {},
   "outputs": [
    {
     "name": "stderr",
     "output_type": "stream",
     "text": [
      "┌ Warning: It's quite slow to visualize a tuple/list of 1000 images\n",
      "│ you might want to manually `cat` them into one large array first.\n",
      "└ @ MosaicViews /Users/abhargava/.julia/packages/MosaicViews/OyvhP/src/MosaicViews.jl:366\n"
     ]
    },
    {
     "name": "stdout",
     "output_type": "stream",
     "text": [
      "Done computation\n"
     ]
    }
   ],
   "source": [
    "# The mosaic view does not seem to work properly without having a sample 'real' RGBX-based image to show\n",
    "# We are basically just creating a 'set' for the program to visualize properly out of the 100 top PCA examples.\n",
    "\n",
    "k = 1000\n",
    "\n",
    "img1 = RGBX.(PCA_STACK[:,:,stack_len]) # 512*512 RGB image\n",
    "\n",
    "stack_len = size(PCA_STACK,3)\n",
    "\n",
    "set = [imresize(img1, im_dims)]\n",
    "\n",
    "k-=1\n",
    "\n",
    "for i = 1:k\n",
    "    set = append!(set, [PCA_STACK[:,:,stack_len-i]] )\n",
    "end\n",
    "\n",
    "A = mosaicview(set, nrow=100,ncol=10)\n",
    "\n",
    "println(\"Done computation\")"
   ]
  },
  {
   "cell_type": "code",
   "execution_count": 57,
   "metadata": {},
   "outputs": [
    {
     "data": {
      "text/plain": [
       "10421822"
      ]
     },
     "execution_count": 57,
     "metadata": {},
     "output_type": "execute_result"
    }
   ],
   "source": [
    "save(\"PCA_1000.png\", A) #Saving the mosaic output."
   ]
  },
  {
   "cell_type": "code",
   "execution_count": null,
   "metadata": {},
   "outputs": [],
   "source": []
  }
 ],
 "metadata": {
  "kernelspec": {
   "display_name": "Julia 1.5.1",
   "language": "julia",
   "name": "julia-1.5"
  },
  "language_info": {
   "file_extension": ".jl",
   "mimetype": "application/julia",
   "name": "julia",
   "version": "1.5.1"
  }
 },
 "nbformat": 4,
 "nbformat_minor": 4
}
