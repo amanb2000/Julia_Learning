{
 "cells": [
  {
   "cell_type": "markdown",
   "metadata": {},
   "source": [
    "# Symbolic Mathematics\n",
    "\n",
    "Of the three branches of computational mathematics (numerical, general purpose, and symbolic), this is certainly the least appreciated in traditional education. Why are we not taught to use symbolic math programs as students of engineering and science? The false dichotomy between the 'numerical/computational' methods taught in computer science-related classes and the 'pure math' taught in other classes is not productive.\n",
    "\n",
    "This notebook details the use of the `SymPy` library in Julia. This is primarily drawn from CUNY's [MTH229](http://mth229.github.io/symbolic.html) website."
   ]
  },
  {
   "cell_type": "code",
   "execution_count": 4,
   "metadata": {},
   "outputs": [],
   "source": [
    "using SymPy"
   ]
  },
  {
   "cell_type": "markdown",
   "metadata": {},
   "source": [
    "## Topic I: Basic Instantiation and Calls\n",
    "\n",
    "- [ ] How to make a new symbolic equation object?\n",
    "- [ ] How to manipulate them and make calls to their values?"
   ]
  },
  {
   "cell_type": "code",
   "execution_count": 5,
   "metadata": {},
   "outputs": [
    {
     "data": {
      "text/latex": [
       "\\begin{equation*}x\\end{equation*}"
      ],
      "text/plain": [
       "x"
      ]
     },
     "execution_count": 5,
     "metadata": {},
     "output_type": "execute_result"
    }
   ],
   "source": [
    "x = Sym(\"x\") # Instantiating a symbolic variable"
   ]
  },
  {
   "cell_type": "code",
   "execution_count": 6,
   "metadata": {},
   "outputs": [
    {
     "data": {
      "text/plain": [
       "(h, y)"
      ]
     },
     "execution_count": 6,
     "metadata": {},
     "output_type": "execute_result"
    }
   ],
   "source": [
    "@vars a, b, c # Alternative instantiation method\n",
    "h, y = symbols(\"h, y\", real=true)"
   ]
  },
  {
   "cell_type": "code",
   "execution_count": 7,
   "metadata": {},
   "outputs": [
    {
     "data": {
      "text/latex": [
       "\\begin{equation*}\\frac{2^{x}}{\\sin{\\left(x \\right)} + 2}\\end{equation*}"
      ],
      "text/plain": [
       "     x    \n",
       "    2     \n",
       "──────────\n",
       "sin(x) + 2"
      ]
     },
     "execution_count": 7,
     "metadata": {},
     "output_type": "execute_result"
    }
   ],
   "source": [
    "f(x) = 2^x/(sin(x)+2) # Creating a symbolic function\n",
    "f(x)"
   ]
  },
  {
   "cell_type": "code",
   "execution_count": 23,
   "metadata": {},
   "outputs": [
    {
     "name": "stdout",
     "output_type": "stream",
     "text": [
      "f(π): 4.4124889135381435\n",
      "N(f(1//2)): 0.5703795255610818\n"
     ]
    }
   ],
   "source": [
    "println(\"f(π): \",f(π));\n",
    "println(\"N(f(1//2)): \", N(f(1//2))); # N() turns it into an actual #"
   ]
  },
  {
   "cell_type": "code",
   "execution_count": 19,
   "metadata": {},
   "outputs": [
    {
     "ename": "LoadError",
     "evalue": "MethodError: no method matching ^(::Int64, ::Pair{Sym,Int64})\nClosest candidates are:\n  ^(!Matched::PyCall.PyObject, ::Any) at /Users/abhargava/.julia/packages/PyCall/BcTLp/src/pyoperators.jl:19\n  ^(::Integer, !Matched::Bool) at bool.jl:100\n  ^(::T, !Matched::Complex{T}) where T<:Real at complex.jl:783\n  ...",
     "output_type": "error",
     "traceback": [
      "MethodError: no method matching ^(::Int64, ::Pair{Sym,Int64})\nClosest candidates are:\n  ^(!Matched::PyCall.PyObject, ::Any) at /Users/abhargava/.julia/packages/PyCall/BcTLp/src/pyoperators.jl:19\n  ^(::Integer, !Matched::Bool) at bool.jl:100\n  ^(::T, !Matched::Complex{T}) where T<:Real at complex.jl:783\n  ...",
      "",
      "Stacktrace:",
      " [1] f(::Pair{Sym,Int64}) at ./In[7]:1",
      " [2] top-level scope at In[19]:1",
      " [3] include_string(::Function, ::Module, ::String, ::String) at ./loading.jl:1091",
      " [4] execute_code(::String, ::String) at /Users/abhargava/.julia/packages/IJulia/rWZ9e/src/execute_request.jl:27",
      " [5] execute_request(::ZMQ.Socket, ::IJulia.Msg) at /Users/abhargava/.julia/packages/IJulia/rWZ9e/src/execute_request.jl:86",
      " [6] #invokelatest#1 at ./essentials.jl:710 [inlined]",
      " [7] invokelatest at ./essentials.jl:709 [inlined]",
      " [8] eventloop(::ZMQ.Socket) at /Users/abhargava/.julia/packages/IJulia/rWZ9e/src/eventloop.jl:8",
      " [9] (::IJulia.var\"#15#18\")() at ./task.jl:356"
     ]
    }
   ],
   "source": [
    "f(x) = x/4\n",
    "println(\"f(π): \",f(π));\n",
    "println(\"N(f(1//2)): \", N(f(1//2))); # N() turns it into an actual #"
   ]
  },
  {
   "cell_type": "code",
   "execution_count": null,
   "metadata": {},
   "outputs": [],
   "source": []
  }
 ],
 "metadata": {
  "kernelspec": {
   "display_name": "Julia 1.5.1",
   "language": "julia",
   "name": "julia-1.5"
  },
  "language_info": {
   "file_extension": ".jl",
   "mimetype": "application/julia",
   "name": "julia",
   "version": "1.5.1"
  }
 },
 "nbformat": 4,
 "nbformat_minor": 4
}
